{
 "cells": [
  {
   "cell_type": "markdown",
   "id": "3126c961-57e2-4d09-ab45-dd6727b1adee",
   "metadata": {},
   "source": [
    "# Feature Engineering"
   ]
  },
  {
   "cell_type": "code",
   "execution_count": null,
   "id": "2a9f03e0-b9c6-4f5e-86bd-cf97b04f4883",
   "metadata": {},
   "outputs": [],
   "source": [
    "import matplotlib.pyplot as plt\n",
    "import os\n",
    "import pandas as pd\n",
    "import numpy as np\n",
    "import datetime as dt\n",
    "import seaborn as sb\n",
    "import itertools "
   ]
  },
  {
   "cell_type": "code",
   "execution_count": null,
   "id": "15bdb185-150c-4bba-8389-bbdcf54ddcd6",
   "metadata": {},
   "outputs": [],
   "source": [
    "notebook_dir = os.path.dirname(os.path.abspath('__file__'))\n",
    "\n",
    "data_path = os.path.join(notebook_dir, '../data/raw/car_prices.csv')\n",
    "\n",
    "df = pd.read_csv(data_path)"
   ]
  },
  {
   "cell_type": "markdown",
   "id": "6e3fb829-9e03-4157-bba0-19f7d4bd72c7",
   "metadata": {},
   "source": [
    "## Duplication Removal"
   ]
  },
  {
   "cell_type": "code",
   "execution_count": null,
   "id": "2efd1551-1ef3-4897-96ee-408f26dec445",
   "metadata": {
    "scrolled": true
   },
   "outputs": [],
   "source": [
    "# Some values are not unique because of capital letters\n",
    "# We will move all to title format\n",
    "\n",
    "Object_col = df.select_dtypes(include = \"object\").columns.to_list()\n",
    "Numerical_col = df.select_dtypes(exclude = \"object\").columns.to_list()\n",
    "\n",
    "Number_of_unique_before = df.nunique()\n",
    "for column in Object_col:\n",
    "    df[column] = df[column].str.title()\n",
    "Number_of_unique_after = df.nunique()\n",
    "print('Reduce of unique values')\n",
    "pd.DataFrame(Number_of_unique_before - Number_of_unique_after).T"
   ]
  },
  {
   "cell_type": "markdown",
   "id": "09e70e62-57a4-489f-9fdc-442e4b9023cf",
   "metadata": {},
   "source": [
    "### Make"
   ]
  },
  {
   "cell_type": "code",
   "execution_count": null,
   "id": "c47b5262-1b3a-47ed-a579-6a621695c4fd",
   "metadata": {},
   "outputs": [],
   "source": [
    "pd.unique(df['make'])"
   ]
  },
  {
   "cell_type": "code",
   "execution_count": null,
   "id": "4920eeb6-0f53-4824-8a17-4e0ce399f8d8",
   "metadata": {},
   "outputs": [],
   "source": [
    "# As we can see, it can be more generalized\n",
    "print(f'Make number unique before: {df.make.nunique()}')\n",
    "\n",
    "df['make'] = df['make'].replace({'Bmw': 'BMW', 'Gmc': 'GMC', 'Ram': 'RAM', 'Gmc Truck': 'GMC', 'Dodge Tk': 'Dodge',\n",
    "       'Mazda Tk': 'Mazda', 'Hyundai Tk': 'Hyundai' , 'Mercedes-B': 'Mercedes',  'Mercedes-Benz': 'Mercedes' , 'Vw': 'VW',\n",
    "       'Chev Truck': 'Chevrolet', 'Ford Tk': 'Ford' , 'Ford Truck' :'Ford'})\n",
    "pd.unique(df['make'])\n",
    "\n",
    "print(f'Make number unique after: {df.make.nunique()}')\n",
    "pd.unique(df['make'])"
   ]
  },
  {
   "cell_type": "code",
   "execution_count": null,
   "id": "94069033-c874-43ba-a657-ff58ca58b40e",
   "metadata": {},
   "outputs": [],
   "source": [
    "# Check sales by make\n",
    "make = df['make'].value_counts().index\n",
    "plt.figure(figsize = (20,10))\n",
    "plt.title('count data by make', loc = 'center')\n",
    "sb.countplot(data = df, y = 'make', order = make, width = 1.1)\n",
    "plt.xlabel('number of cars', loc = 'center')"
   ]
  },
  {
   "cell_type": "code",
   "execution_count": null,
   "id": "35d9d33e-6a7a-4f3a-81f6-1670bd21a77e",
   "metadata": {},
   "outputs": [],
   "source": [
    "# We will move Plymouth and below to \"Other\" category since there are few observations\n",
    "print(df[df['make'] == 'Bentley'].shape[0])\n",
    "print(df[df['make'] == 'Plymouth'].shape[0])"
   ]
  },
  {
   "cell_type": "code",
   "execution_count": null,
   "id": "1288e2fb-aaa3-4fb9-955c-309cfa1573a5",
   "metadata": {},
   "outputs": [],
   "source": [
    "# We create a function to change to Other category\n",
    "def group_rare_categories(df, column_name, min_count):\n",
    "    value_counts = df[column_name].value_counts()\n",
    "    rare_categories = value_counts[value_counts < min_count].index\n",
    "    df[column_name] = df[column_name].apply(lambda x: 'other' if x in rare_categories else x)\n",
    "    return df"
   ]
  },
  {
   "cell_type": "code",
   "execution_count": null,
   "id": "10b53002-0d67-48d2-99a9-02c99bfaa4d5",
   "metadata": {},
   "outputs": [],
   "source": [
    "# Anything with less than 28 observations will be moved to Other\n",
    "print(f\"groups that have less than 28 observations before: {df['make'].value_counts()[df['make'].value_counts()<28]}\")\n",
    "\n",
    "df = group_rare_categories(df, 'make', 28)\n",
    "\n",
    "print(f\"groups that have less than 10 observations after: {df['make'].value_counts()[df['make'].value_counts()<28]}\")"
   ]
  },
  {
   "cell_type": "markdown",
   "id": "bc6c4e44-3bc2-41bb-855a-b1c3bf05fb11",
   "metadata": {},
   "source": [
    "### Trim"
   ]
  },
  {
   "cell_type": "code",
   "execution_count": null,
   "id": "22a1ce14-5670-402c-9e49-ed9620ebe47d",
   "metadata": {},
   "outputs": [],
   "source": [
    "df['trim'].nunique()"
   ]
  },
  {
   "cell_type": "code",
   "execution_count": null,
   "id": "48230377-a63e-45fd-b404-ecae31123e97",
   "metadata": {},
   "outputs": [],
   "source": [
    "# Too many trim values, lots of them with <100 observations\n",
    "# Anything with less than 100 observations will be moved to Other\n",
    "print(f\"groups that have less than 100 observations before: {df['trim'].value_counts()[df['trim'].value_counts()<101]}\")\n",
    "\n",
    "df = group_rare_categories(df, 'trim', 101)\n",
    "\n",
    "print(f\"groups that have less than 100 observations after: {df['trim'].value_counts()[df['trim'].value_counts()<101]}\")"
   ]
  },
  {
   "cell_type": "markdown",
   "id": "6010de9f-7340-4362-a9b3-42f8b7fbdeae",
   "metadata": {},
   "source": [
    "### Car Age\n",
    "With SaleDate we can get Car Age (which is more important for a vehicle sale predictor"
   ]
  },
  {
   "cell_type": "code",
   "execution_count": null,
   "id": "084a3f66-d66a-4237-b580-f9f4540b01b1",
   "metadata": {},
   "outputs": [],
   "source": [
    "# We check how the data is stored\n",
    "saledate = df['saledate'].str.split(expand = True)\n",
    "saledate.head(1)"
   ]
  },
  {
   "cell_type": "code",
   "execution_count": null,
   "id": "bd5c208b-8e1b-4ab8-b5c6-07573b6ad81f",
   "metadata": {},
   "outputs": [],
   "source": [
    "# Car sales range\n",
    "print(f'month data: {pd.unique(saledate.iloc[:,1])}')\n",
    "print(f'year data: {pd.unique(saledate.iloc[:,3])}')"
   ]
  },
  {
   "cell_type": "code",
   "execution_count": null,
   "id": "6ba6b262-25fa-4853-8947-640361b1eb0f",
   "metadata": {
    "jupyter": {
     "source_hidden": true
    }
   },
   "outputs": [],
   "source": [
    "# We add a new column salesyear to calculate the age of the vehicle in the future\n",
    "df = pd.merge(left = df, right = saledate.iloc[:, 3], left_index = True, right_index = True)\n",
    "df.rename(columns = {3: 'salesyear'}, inplace = True)"
   ]
  },
  {
   "cell_type": "code",
   "execution_count": null,
   "id": "1d84e117-d59b-4dca-a3bc-e572304f9a0a",
   "metadata": {},
   "outputs": [],
   "source": [
    "# Number of sales by make\n",
    "df_sale = df.groupby('salesyear').agg({'salesyear' : 'count'})\n",
    "plt.figure(figsize = (5,5))\n",
    "plt.title('cars sales by year', loc = 'center')\n",
    "plt.pie(df_sale['salesyear'], labels = df_sale['salesyear'] )\n",
    "plt.legend(labels = df_sale.index, fontsize = 10, loc='upper left')"
   ]
  },
  {
   "cell_type": "code",
   "execution_count": null,
   "id": "5cfe76e0-7463-46bc-baba-29f335e45935",
   "metadata": {},
   "outputs": [],
   "source": [
    "# Fill nan with 2015\n",
    "print(f'num nan sales year before: {df.salesyear.isna().sum()}')\n",
    "df['salesyear'] = df['salesyear'].fillna('2015')\n",
    "print(f'num nan sales year after: {df.salesyear.isna().sum()}')"
   ]
  },
  {
   "cell_type": "code",
   "execution_count": null,
   "id": "d5586b4b-8636-4ea1-ad7d-60ce9c5cf2a3",
   "metadata": {},
   "outputs": [],
   "source": [
    "# car age calculation\n",
    "df['salesyear'] = df['salesyear'].astype(np.int64)\n",
    "df['car_age'] = df['salesyear'] - df['year']\n",
    "pd.unique(df['car_age'])"
   ]
  },
  {
   "cell_type": "code",
   "execution_count": null,
   "id": "44752b4c-16c8-4350-96d6-ac752d354cab",
   "metadata": {},
   "outputs": [],
   "source": [
    "# Some of the sales are larger than the year of the car, for these lines we will assume that the age of the car is equal to the year of sale\n",
    "def age(x):\n",
    "    if x == -1:\n",
    "       return  0\n",
    "    else:\n",
    "       return x\n",
    "        \n",
    "df['car_age'] = df['car_age'].apply(age)\n",
    "pd.unique(df['car_age'])"
   ]
  },
  {
   "cell_type": "code",
   "execution_count": null,
   "id": "f348f126-041c-4db3-baaf-de412e1c8885",
   "metadata": {},
   "outputs": [],
   "source": [
    "plt.figure(figsize = (5,3))\n",
    "plt.title('cars age', loc = 'center')\n",
    "plt.hist(df['car_age'], bins = 35, align = 'mid')\n",
    "plt.xlabel('car_age', loc = 'center')"
   ]
  },
  {
   "cell_type": "markdown",
   "id": "03e7ece1-104a-43d8-bab8-f434a9f003ca",
   "metadata": {},
   "source": [
    "### State"
   ]
  },
  {
   "cell_type": "code",
   "execution_count": null,
   "id": "fbbdbbf6-3896-4e28-9eb8-91e1fb298607",
   "metadata": {},
   "outputs": [],
   "source": [
    "df['state'].unique()"
   ]
  },
  {
   "cell_type": "code",
   "execution_count": null,
   "id": "1973d349-a174-474c-9206-d4edb52763d3",
   "metadata": {},
   "outputs": [],
   "source": [
    "# Replacing unknown values with NAN values\n",
    "df['state'] = df['state'].apply(lambda x: np.nan if x[0] == '3' else x)\n",
    "df['state'].unique()"
   ]
  },
  {
   "cell_type": "code",
   "execution_count": null,
   "id": "cab1e3b1-adc5-42e4-a9af-cdc1882b7660",
   "metadata": {},
   "outputs": [],
   "source": [
    "# Transfer state names to a full name\n",
    "df['state'].replace({'Ca': 'California', 'Tx': 'Texas', 'Pa': 'Pennsylvania', 'Mn': 'Minnesota',\n",
    "    'Az': 'Arizona', 'Wi': 'Wisconsin', 'Tn': 'Tennessee', 'Md': 'Maryland', 'Fl': 'Florida', 'Ne': 'Nebraska',\n",
    "    'Nj': 'New Jersey', 'Nv': 'Nevada', 'Oh': 'Ohio', 'Mi': 'Michigan', 'Ga': 'Georgia', 'Va': 'Virginia',\n",
    "    'Sc': 'South Carolina', 'Nc': 'North Carolina', 'In': 'Indiana', 'Il': 'Illinois', 'Co': 'Colorado',\n",
    "    'Ut': 'Utah', 'Mo': 'Missouri', 'Ny': 'New York', 'Ma': 'Massachusetts', 'Pr': 'Puerto Rico', 'Or': 'Oregon',\n",
    "    'La': 'Louisiana', 'Wa': 'Washington', 'Hi': 'Hawaii', 'Qc': 'Quebec',  'Ab': 'Alberta', 'On': 'Ontario', \n",
    "    'Ok': 'Oklahoma', 'Ms': 'Mississippi', 'Nm': 'New Mexico', 'Al': 'Alabama', 'Ns': 'Nova Scotia'}, inplace = True)\n",
    "\n",
    "df['state'].unique()"
   ]
  },
  {
   "cell_type": "code",
   "execution_count": null,
   "id": "7deeb014-e7da-428a-8fe9-7141eeecf658",
   "metadata": {},
   "outputs": [],
   "source": [
    "# distribution of vehicles by company\n",
    "state = df['state'].value_counts().index\n",
    "plt.figure(figsize = (20,10))\n",
    "plt.title('count data by state', loc = 'center')\n",
    "sb.countplot(data = df, y = 'state', order = state, width = 1.1)\n",
    "plt.xlabel('number of cars', loc = 'center')"
   ]
  },
  {
   "cell_type": "code",
   "execution_count": null,
   "id": "a04b6a85-e8cd-4ea5-8d1a-38e56a6019ca",
   "metadata": {},
   "outputs": [],
   "source": [
    "# Move groups that have less than 200 observations to \"other\"\n",
    "print(f\"groups that have less than 200 observations before: {df['state'].value_counts()[df['state'].value_counts()<201]}\")\n",
    "\n",
    "df = group_rare_categories(df, 'state', 201)\n",
    "\n",
    "print(f\"groups that have less than 200 observations after: {df['state'].value_counts()[df['state'].value_counts()<201]}\")"
   ]
  },
  {
   "cell_type": "markdown",
   "id": "cadc344c-ecee-4cf1-b8d7-843ae532cbea",
   "metadata": {},
   "source": [
    "### Transmission"
   ]
  },
  {
   "cell_type": "code",
   "execution_count": null,
   "id": "bb29aeb4-d792-4c5d-af7b-079384447852",
   "metadata": {},
   "outputs": [],
   "source": [
    "df['transmission'].unique()"
   ]
  },
  {
   "cell_type": "code",
   "execution_count": null,
   "id": "e4e5d9b6-8814-482c-ae3e-f1dd8fb4b9de",
   "metadata": {},
   "outputs": [],
   "source": [
    "# Some columns should be body instead of transmission\n",
    "df['body'].unique()"
   ]
  },
  {
   "cell_type": "code",
   "execution_count": null,
   "id": "32907157-dd51-4310-838a-23af1f96e64a",
   "metadata": {},
   "outputs": [],
   "source": [
    "# Here we can see the errors\n",
    "print(f\"Transmission column: {df[df['transmission'] == 'Sedan']['body'].unique()}\")\n",
    "print(f\"Body column: {df[df['body'] == 'Navitgation']['transmission'].unique()}\")"
   ]
  },
  {
   "cell_type": "code",
   "execution_count": null,
   "id": "f86508cb-7c6c-4c0e-9fed-61748eefaf26",
   "metadata": {},
   "outputs": [],
   "source": [
    "# Replace content from transmission to body column and delete these records from transmission\n",
    "for i, row in df.iterrows():\n",
    "    if row['transmission'] == 'Sedan':\n",
    "        df.loc[i, 'body'] = 'Sedan'\n",
    "        df.loc[i, 'transmission'] = np.nan\n",
    "print(f'transmission unique: {df.transmission.unique()}')"
   ]
  },
  {
   "cell_type": "code",
   "execution_count": null,
   "id": "6ac532de-56cc-43d8-8525-c6d78c92a6e5",
   "metadata": {},
   "outputs": [],
   "source": [
    "cars_transmission = df.groupby('transmission').agg({'transmission' : 'count'})\n",
    "plt.figure(figsize = (7,5))\n",
    "plt.title('transmission aut/man', loc = 'center')\n",
    "plt.pie(cars_transmission['transmission'], labels = cars_transmission['transmission'] )\n",
    "plt.legend(labels = cars_transmission.index, fontsize = 10, loc='upper left')"
   ]
  },
  {
   "cell_type": "markdown",
   "id": "4f8e4596-a636-4ee3-b8df-027925e4ac00",
   "metadata": {},
   "source": [
    "### Body"
   ]
  },
  {
   "cell_type": "code",
   "execution_count": null,
   "id": "f6d54fb4-9195-42d3-b74c-101218123668",
   "metadata": {},
   "outputs": [],
   "source": [
    "df['body'].unique()"
   ]
  },
  {
   "cell_type": "code",
   "execution_count": null,
   "id": "ab41c722-f729-4489-bec0-5404c1a9f320",
   "metadata": {},
   "outputs": [],
   "source": [
    "# Fix it to have less unique categories\n",
    "df['body'].replace({'G37 Coupe' : 'Coupe', 'Cts Wagon' : 'Wagon', 'Cts-V Wagon' : 'Wagon',\n",
    "                    'G37 Convertible' : 'Convertible', 'G Sedan' : 'Sedan', 'G Convertible' : 'Convertible', 'G Coupe': 'Coupe',\n",
    "                    'Granturismo Convertible' : 'Convertible', 'Ram Van' : 'Van', 'Transit Van': 'Van', 'Q60 Convertible' : 'Convertible',\n",
    "                    'Q60 Coupe': 'Coupe', 'Tsx Sport Wagon' : 'Sport Wagon', 'Beetle Convertible': 'Convertible',\n",
    "                    'E-Series Van' : 'Van', 'Elantra Coupe' : 'Coupe', 'Genesis Coupe': 'Coupe', 'Koup' : 'Coupe',\n",
    "                    'Tsx Sport Wagon' : 'Wagon', 'Cts Coupe' : 'Coupe' , 'Cts-V Coupe' : 'Coupe', 'Promaster Cargo Van' : 'Van' ,\n",
    "                    'Supercrew' : 'Cab', 'Double Cab' : 'Cab' , 'Access Cab' : 'Cab',\n",
    "                    'King Cab' : 'Cab', 'Extended Cab' : 'Cab', 'Supercab' : 'Cab', 'Regular Cab' : 'Cab', 'Quad Cab' : 'Cab',\n",
    "                    'Club Cab' : 'Cab', 'Xtracab' : 'Cab', 'Mega Cab' : 'Cab', 'Cab Plus 4' : 'Cab', 'Cab Plus' : 'Cab',\n",
    "                     'Crewmax Cab': 'Cab', 'Crew Cab': 'Cab' , 'Regular-Cab': 'Cab' }, inplace = True)\n",
    "df['body'].unique()"
   ]
  },
  {
   "cell_type": "code",
   "execution_count": null,
   "id": "a0072187-6ae5-4f83-8e6e-c0d4ed3c3dfc",
   "metadata": {},
   "outputs": [],
   "source": [
    "# distribution of sales by body\n",
    "body_order = df['body'].value_counts().reset_index()['body']\n",
    "plt.figure(figsize = (4,5))\n",
    "sb.catplot(y='body', data=df, kind='count', order = body_order )\n",
    "plt.title('sales by body', loc = 'center')\n",
    "plt.xlabel('body', loc = 'center')\n",
    "plt.show()"
   ]
  },
  {
   "cell_type": "markdown",
   "id": "15f601d1-df1d-4f56-9528-f709c15b3d70",
   "metadata": {},
   "source": [
    "### Color"
   ]
  },
  {
   "cell_type": "code",
   "execution_count": null,
   "id": "30bf0263-ba75-473b-ad1e-fb225dc0188e",
   "metadata": {},
   "outputs": [],
   "source": [
    "df['color'].unique()"
   ]
  },
  {
   "cell_type": "code",
   "execution_count": null,
   "id": "3b02e3d5-006b-4bc8-b4de-22d84da9c184",
   "metadata": {},
   "outputs": [],
   "source": [
    "# Transferring irrelevant data to nan\n",
    "def delete_non_state(x):\n",
    "    del_list = ['1', '2', '3', '4', '5', '6', '7', '8', '9', '0', '—']\n",
    "    for i in str(x):\n",
    "        if str(i) in del_list:\n",
    "            return np.nan\n",
    "        else:\n",
    "            return x\n",
    "df['color'] = df['color'].apply(lambda x: delete_non_state(x))\n",
    "df['color'].unique()"
   ]
  },
  {
   "cell_type": "code",
   "execution_count": null,
   "id": "c3ce6e6e-8a18-4ecd-877e-5ff2f5b5ef26",
   "metadata": {},
   "outputs": [],
   "source": [
    "# distribution of sales by color\n",
    "color_order = df['color'].value_counts().reset_index()['color']\n",
    "plt.figure(figsize = (5,4))\n",
    "sb.catplot(y='color', data=df, kind='count', order = color_order)\n",
    "plt.title('sales by color', loc = 'center')\n",
    "plt.xlabel('sales', loc = 'center')"
   ]
  },
  {
   "cell_type": "code",
   "execution_count": null,
   "id": "9c1673b6-f70a-4073-b3c1-e734dc185539",
   "metadata": {},
   "outputs": [],
   "source": [
    "# Move groups that have less than 250 observations to \"other\"\n",
    "print(f\"groups that have less than 250 observations before: {df['color'].value_counts()[df['color'].value_counts()<251]}\")\n",
    "\n",
    "df = group_rare_categories(df, 'color', 251)\n",
    "\n",
    "print(f\"groups that have less than 250 observations after: {df['color'].value_counts()[df['color'].value_counts()<251]}\")"
   ]
  },
  {
   "cell_type": "markdown",
   "id": "8bb8aa8f-13de-4067-a7c0-d627cdb99428",
   "metadata": {},
   "source": [
    "### Interior"
   ]
  },
  {
   "cell_type": "code",
   "execution_count": null,
   "id": "f8041504-69ba-415d-9836-15dc315b018b",
   "metadata": {},
   "outputs": [],
   "source": [
    "df['interior'].unique()"
   ]
  },
  {
   "cell_type": "code",
   "execution_count": null,
   "id": "79e23c29-c90b-4f44-ab28-f31435c2719d",
   "metadata": {},
   "outputs": [],
   "source": [
    "# Replacing values \"-\" to nan\n",
    "df['interior'].replace({'—': np.nan}, inplace = True)"
   ]
  },
  {
   "cell_type": "code",
   "execution_count": null,
   "id": "7e3009a9-fd59-4888-b696-ba0934c6aafe",
   "metadata": {},
   "outputs": [],
   "source": [
    "# Move groups that have less than 200 observations to \"other\"\n",
    "print(f\"groups that have less than 200 observations before: {df['interior'].value_counts()[df['interior'].value_counts()<201]}\")\n",
    "\n",
    "df = group_rare_categories(df, 'interior', 201)\n",
    "\n",
    "print(f\"groups that have less than 200 observations after: {df['interior'].value_counts()[df['interior'].value_counts()<201]}\")"
   ]
  },
  {
   "cell_type": "markdown",
   "id": "04d59f45-5ce2-4879-960d-f077bb74bce1",
   "metadata": {},
   "source": [
    "### Condition"
   ]
  },
  {
   "cell_type": "code",
   "execution_count": null,
   "id": "2e773b1d-11eb-4ff1-8f72-8288f9876350",
   "metadata": {},
   "outputs": [],
   "source": [
    "np.sort(df['condition'].unique())"
   ]
  },
  {
   "cell_type": "code",
   "execution_count": null,
   "id": "27d306b8-994c-473b-872f-190825d9f3a8",
   "metadata": {},
   "outputs": [],
   "source": [
    "# data distribution by condition\n",
    "plt.figure(figsize = (5,3))\n",
    "plt.title('count cars by condition', loc = 'center')\n",
    "plt.hist(df['condition'], bins = 25, align = 'mid')\n",
    "plt.xlabel('condition', loc = 'center')"
   ]
  },
  {
   "cell_type": "code",
   "execution_count": null,
   "id": "fe7e0a13-3227-4411-aa13-3a9c4d1618d3",
   "metadata": {},
   "outputs": [],
   "source": [
    "# It looks like Condition was rated 1-5 or 10-50. We will transfer it to 10-50 scale.\n",
    "# Data transfer to 1-50 scale\n",
    "df['condition'] = df['condition'].apply(lambda x: x*10 if x < 10 else x)\n",
    "np.sort(df['condition'].unique())"
   ]
  },
  {
   "cell_type": "markdown",
   "id": "c346d1fc-9970-4c07-9e2a-af8f972c06b5",
   "metadata": {},
   "source": [
    "### Odometer"
   ]
  },
  {
   "cell_type": "code",
   "execution_count": null,
   "id": "3af70cac-5744-42ec-a09e-ea8ac92c4ce3",
   "metadata": {},
   "outputs": [],
   "source": [
    "# Checking the distribution of values and outliers\n",
    "fig, place = plt.subplots(nrows=2,ncols=1,figsize=(13,5),sharex=True)\n",
    "plt.suptitle('odometer distribution')\n",
    "plt.xlabel('odometer', loc = 'center')\n",
    "\n",
    "place[0].boxplot(df[df['odometer'].notna()]['odometer'], vert = False)\n",
    "place[1].hist(df[df['odometer'].notna()]['odometer'],bins=60,alpha=0.5,density=True)\n",
    "\n",
    "plt.tight_layout()\n",
    "plt.show()"
   ]
  },
  {
   "cell_type": "code",
   "execution_count": null,
   "id": "28cdff3a-a408-4992-ac53-3be73d9b96f0",
   "metadata": {},
   "outputs": [],
   "source": [
    "# check abnormal values, how many rows there is a mileage equal to 1 and the age of the vehicle is over a year\n",
    "df['odometer'] = pd.to_numeric(df['odometer'])\n",
    "print(f\"mileage equal to 1: {df[(df['odometer']<2)]['odometer'].count()}\")\n",
    "print(f\"mileage equal to 1 and the age of the vehicle is over a year: {df[(df['odometer']<2) & (df['car_age']>0)]['odometer'].count()}\")\n",
    "print(f\"mileage equal to 1 and the age of the vehicle is less than a year: {df[(df['odometer']<2) & (df['car_age']==0)]['odometer'].count()}\")\n",
    "# check rows with mileage over 900000 \n",
    "print(f\"mileage over 900000: {df[df['odometer']>900001]['odometer'].count()}\")\n",
    "# transfer rows to nan\n",
    "df['odometer'] = df.apply(lambda x: np.nan if (x['odometer'] < 2 and x['car_age'] > 0) or (x['odometer'] > 990000) else x['odometer'], axis=1)"
   ]
  },
  {
   "cell_type": "code",
   "execution_count": null,
   "id": "b8d894eb-e143-4a0e-8504-cab5165c9a8a",
   "metadata": {},
   "outputs": [],
   "source": [
    "print(f\"mileage equal to 1: {df[(df['odometer']<2)]['odometer'].count()}\")\n",
    "print(f\"mileage equal to 1 and the age of the vehicle is over a year: {df[(df['odometer']<2) & (df['car_age']>0)]['odometer'].count()}\")\n",
    "print(f\"mileage equal to 1 and the age of the vehicle is less than a year: {df[(df['odometer']<2) & (df['car_age']==0)]['odometer'].count()}\")\n",
    "print(f\"mileage over 990000: {df[df['odometer']>990000]['odometer'].count()}\")"
   ]
  },
  {
   "cell_type": "markdown",
   "id": "c269cb0e-d0d9-4c85-a73d-ed6a20d0c442",
   "metadata": {},
   "source": [
    "### Saleprice"
   ]
  },
  {
   "cell_type": "code",
   "execution_count": null,
   "id": "74a61da1-0665-435b-bae2-a254cc82aa51",
   "metadata": {},
   "outputs": [],
   "source": [
    "# Checking the distribution of values and outliers\n",
    "fig, place = plt.subplots(nrows=2,ncols=1,figsize=(13,5),sharex=True)\n",
    "\n",
    "plt.suptitle('Selling Price distribution')\n",
    "plt.xlabel('price', loc = 'center')\n",
    "\n",
    "place[0].boxplot(df[df['sellingprice'].notna()]['sellingprice'],vert=False)\n",
    "place[1].hist(df[df['sellingprice'].notna()]['sellingprice'],bins=60,alpha=0.5,density=True)\n",
    "\n",
    "plt.tight_layout()\n",
    "plt.show()"
   ]
  },
  {
   "cell_type": "code",
   "execution_count": null,
   "id": "98b118fb-83bd-4f69-b98d-c665e2c36a6a",
   "metadata": {},
   "outputs": [],
   "source": [
    "# Checking the distribution of values ​​and outliers by year \n",
    "plt.figure(figsize = (15,5))\n",
    "plt.title('outleyers by year', loc = 'center')\n",
    "sb.boxplot(x='year', y='sellingprice', data=df, palette='rainbow')\n",
    "plt.xlabel('year', loc = 'center')"
   ]
  },
  {
   "cell_type": "code",
   "execution_count": null,
   "id": "76a8e189-3d6f-4b75-b90d-0360c2429b6d",
   "metadata": {},
   "outputs": [],
   "source": [
    "df['price_res']=df['mmr']-df['sellingprice']\n",
    "df['price_res'].describe().round(2)"
   ]
  },
  {
   "cell_type": "code",
   "execution_count": null,
   "id": "9e3e167c-410d-4d3a-919e-ed3679d76827",
   "metadata": {},
   "outputs": [],
   "source": [
    "# sales price under 150$\n",
    "print(f\"sales price under 150$: {df[df['sellingprice']<150]['sellingprice'].count()}\")\n",
    "# sales price residuals under or upper 25000$\n",
    "print(f\"sales price residuals under or upper 25000$: {df[(df['price_res']>25000) | (df['price_res']<-25000)]['price_res'].count()}\")\n",
    "# delete rows \n",
    "df = df[(df['sellingprice']>150) & (df['price_res']<25000) & (df['price_res']>-25000)]"
   ]
  },
  {
   "cell_type": "markdown",
   "id": "726758e0-c005-4772-abcd-10e2ab3aff46",
   "metadata": {},
   "source": [
    "## Data completion/deletion"
   ]
  },
  {
   "cell_type": "code",
   "execution_count": null,
   "id": "de9839fa-8e13-4f7a-a555-a26a0df41237",
   "metadata": {},
   "outputs": [],
   "source": [
    "df.info()"
   ]
  },
  {
   "cell_type": "code",
   "execution_count": null,
   "id": "49085a2a-c389-473c-a4bd-981528b87327",
   "metadata": {},
   "outputs": [],
   "source": [
    "# For a sales predictor, some columns are irrelevant\n",
    "df.drop(columns = ['year', 'vin', 'saledate', 'salesyear', 'price_res', 'seller'], inplace = True)"
   ]
  },
  {
   "cell_type": "code",
   "execution_count": null,
   "id": "978f46f5-7134-4f5e-ba16-170c2feaf84b",
   "metadata": {},
   "outputs": [],
   "source": [
    "# missing values in database\n",
    "df.isna().sum()"
   ]
  },
  {
   "cell_type": "code",
   "execution_count": null,
   "id": "57963e73-470a-415c-a0a4-be54e9d1bf82",
   "metadata": {},
   "outputs": [],
   "source": [
    "# Make is the most important data, therefore if the row is nan - we will delete rows\n",
    "df.dropna(axis = 0, subset = ['make', 'model'],  inplace = True)"
   ]
  },
  {
   "cell_type": "code",
   "execution_count": null,
   "id": "1f72aa95-c80c-4350-a4e7-d1bd5fa73914",
   "metadata": {},
   "outputs": [],
   "source": [
    "# Also delete lines with a missing combination of model and trim\n",
    "df.dropna(axis = 0, subset = ['model', 'trim'], how = 'all',  inplace = True)"
   ]
  },
  {
   "cell_type": "code",
   "execution_count": null,
   "id": "aea699b7-cb20-4f57-9652-33a708065777",
   "metadata": {},
   "outputs": [],
   "source": [
    "# To compare at the end\n",
    "print(f'shape before filling: {df.shape}')\n",
    "print(f'nun of nan before filling: {df.isna().sum()}')"
   ]
  },
  {
   "cell_type": "code",
   "execution_count": null,
   "id": "f9cffb27-b6c4-4131-aae3-6ae0b0667d07",
   "metadata": {},
   "outputs": [],
   "source": [
    "# Complete color column\n",
    "# If color is Nan, fill it based on Make-Model most common color.\n",
    "color_mode = df.groupby(by=['make', 'model'])['color'].agg(pd.Series.mode).explode().reset_index()\n",
    "color_mode = color_mode.groupby(by=['make', 'model']).first().reset_index()\n",
    "df = pd.merge(left=df, right=color_mode, on=['make', 'model'], how='left')\n",
    "df['color_x'] = df['color_x'].fillna(df['color_y'])\n",
    "df.drop('color_y', axis=1, inplace=True)\n",
    "df.rename(columns={'color_x': 'color'}, inplace=True)"
   ]
  },
  {
   "cell_type": "code",
   "execution_count": null,
   "id": "a02104fa-5171-4870-baf5-e3dff2f88d9c",
   "metadata": {},
   "outputs": [],
   "source": [
    "# Same for body column\n",
    "body_mode = df.groupby(by = ['make', 'model'])['body'].agg(pd.Series.mode).explode().reset_index()\n",
    "body_mode = body_mode.groupby(by = ['make', 'model']).first().reset_index()\n",
    "df = pd.merge(left = df, right = body_mode, on = ['make', 'model'], how = 'left')\n",
    "df['body_x'] = df['body_x'].fillna(df['body_y'])\n",
    "df.drop('body_y', axis = 1, inplace = True)\n",
    "df.rename(columns = {'body_x' : 'body'}, inplace = True)"
   ]
  },
  {
   "cell_type": "code",
   "execution_count": null,
   "id": "82a03639-a194-4e88-bf9a-09575d785876",
   "metadata": {},
   "outputs": [],
   "source": [
    "# Same for transmission\n",
    "transmission_mode = df.groupby(by = ['make', 'model'])['transmission'].agg(pd.Series.mode).explode().reset_index()\n",
    "transmission_mode = transmission_mode.groupby(by = ['make', 'model']).first().reset_index()\n",
    "df = pd.merge(left = df, right = transmission_mode, on = ['make', 'model'], how = 'left')\n",
    "df['transmission_x'] = df['transmission_x'].fillna(df['transmission_y'])\n",
    "df.drop('transmission_y', axis = 1, inplace = True)\n",
    "df.rename(columns = {'transmission_x' : 'transmission'}, inplace = True)"
   ]
  },
  {
   "cell_type": "code",
   "execution_count": null,
   "id": "f4c3d25e-6061-4c71-b002-f7eae57b3000",
   "metadata": {},
   "outputs": [],
   "source": [
    "# Same for interior\n",
    "interior_mode = df.groupby(by = ['make', 'model'])['interior'].agg(pd.Series.mode).explode().reset_index()\n",
    "interior_mode = interior_mode.groupby(by = ['make', 'model']).first().reset_index()\n",
    "df = pd.merge(left = df, right = interior_mode, on = ['make', 'model'], how = 'left')\n",
    "df['interior_x'] = df['interior_x'].fillna(df['interior_y'])\n",
    "df.drop('interior_y', axis = 1, inplace = True)\n",
    "df.rename(columns = {'interior_x' : 'interior'}, inplace = True)"
   ]
  },
  {
   "cell_type": "code",
   "execution_count": null,
   "id": "31db1cb2-1d43-47da-be43-daa0be816d0a",
   "metadata": {},
   "outputs": [],
   "source": [
    "# Same for trim\n",
    "trim_mode = df.groupby(by = ['make', 'model'])['trim'].agg(pd.Series.mode).explode().reset_index()\n",
    "trim_mode = trim_mode.groupby(by = ['make', 'model']).first().reset_index()\n",
    "df = pd.merge(left = df, right = trim_mode, on = ['make', 'model'], how = 'left')\n",
    "df['trim_x'] = df['trim_x'].fillna(df['trim_y'])\n",
    "df.drop('trim_y', axis = 1, inplace = True)\n",
    "df.rename(columns = {'trim_x' : 'trim'}, inplace = True)"
   ]
  },
  {
   "cell_type": "code",
   "execution_count": null,
   "id": "269ae357-d579-4065-88aa-b0ea51731cff",
   "metadata": {},
   "outputs": [],
   "source": [
    "# Could have been done with a function, I didn't do it for clarity\n",
    "# This function fills NaN values in a specific column with the most frequent value within each make-model pair\n",
    "def fill_mode(df, column_name):\n",
    "    mode_df = df.groupby(by=['make', 'model'])[column_name].agg(pd.Series.mode).explode().reset_index()\n",
    "    mode_df = mode_df.groupby(by=['make', 'model']).first().reset_index()\n",
    "    \n",
    "    df = pd.merge(left=df, right=mode_df, on=['make', 'model'], how='left')\n",
    "    df[f'{column_name}_x'] = df[f'{column_name}_x'].fillna(df[f'{column_name}_y'])\n",
    "    \n",
    "    df.drop(f'{column_name}_y', axis=1, inplace=True)\n",
    "    df.rename(columns={f'{column_name}_x': column_name}, inplace=True)\n",
    "    \n",
    "    return df"
   ]
  },
  {
   "cell_type": "code",
   "execution_count": null,
   "id": "3628b98a-0677-41f8-a768-0c5a28f18d2b",
   "metadata": {},
   "outputs": [],
   "source": [
    "# For condition we do median instead of mode\n",
    "import warnings\n",
    "warnings.filterwarnings('ignore', category=RuntimeWarning)\n",
    "\n",
    "condition_mean = df.groupby(by = ['car_age', 'odometer'], dropna =True)['condition'].agg(pd.Series.median).reset_index()\n",
    "condition_mean['condition'] = condition_mean['condition'].round(0)\n",
    "df = pd.merge(left=df, right=condition_mean, on=['car_age', 'odometer'], how='left')\n",
    "df['condition_x'] = df['condition_x'].fillna(df['condition_y'])\n",
    "df.drop('condition_y', axis=1, inplace=True)\n",
    "df.rename(columns={'condition_x': 'condition'}, inplace=True)"
   ]
  },
  {
   "cell_type": "code",
   "execution_count": null,
   "id": "59211e05-0e76-47a8-a7e4-9bf52675b185",
   "metadata": {},
   "outputs": [],
   "source": [
    "# Compare with previous print\n",
    "print(f'shape after filling: {df.shape}')\n",
    "print(f'nun of nan after filling: {df.isna().sum()}')"
   ]
  },
  {
   "cell_type": "code",
   "execution_count": null,
   "id": "afa96a6a-ebd9-4e5a-bdd7-59b84aa2d13a",
   "metadata": {},
   "outputs": [],
   "source": [
    "# Delete the rest of nans that were not completed \n",
    "df.dropna(how = 'any', inplace = True)\n",
    "print(f'nun of nan after filling: {df.shape}')\n",
    "print(f'shape after filling: {df.isna().sum()}')"
   ]
  },
  {
   "cell_type": "code",
   "execution_count": null,
   "id": "022e41a5-5dc1-4b75-a6ed-dbfbef70d2e5",
   "metadata": {},
   "outputs": [],
   "source": [
    "# Fine tuning\n",
    "df.rename(columns = {'car_age' : 'age'} ,inplace = True)"
   ]
  },
  {
   "cell_type": "code",
   "execution_count": null,
   "id": "3fa1fa41-d9a0-44ce-802c-963b2a740220",
   "metadata": {},
   "outputs": [],
   "source": [
    "# Duplication check\n",
    "df.duplicated().sum()"
   ]
  },
  {
   "cell_type": "code",
   "execution_count": null,
   "id": "165041f7-6d29-4863-a4c7-8d07900f3fe7",
   "metadata": {},
   "outputs": [],
   "source": [
    "df.describe().round(1).T"
   ]
  },
  {
   "cell_type": "code",
   "execution_count": null,
   "id": "aebf893f-65e3-41d0-b3e7-2cbfd903cd74",
   "metadata": {},
   "outputs": [],
   "source": [
    "# Save dataframe after FE\n",
    "notebook_dir = os.path.dirname(os.path.abspath('__file__'))\n",
    "save_path = os.path.join(notebook_dir, '../data/processed/car_prices_after_FE_3.csv')\n",
    "\n",
    "df.to_csv(save_path, index=False)"
   ]
  }
 ],
 "metadata": {
  "kernelspec": {
   "display_name": "Python 3 (ipykernel)",
   "language": "python",
   "name": "python3"
  },
  "language_info": {
   "codemirror_mode": {
    "name": "ipython",
    "version": 3
   },
   "file_extension": ".py",
   "mimetype": "text/x-python",
   "name": "python",
   "nbconvert_exporter": "python",
   "pygments_lexer": "ipython3",
   "version": "3.10.11"
  }
 },
 "nbformat": 4,
 "nbformat_minor": 5
}
