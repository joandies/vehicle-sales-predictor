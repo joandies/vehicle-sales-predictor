{
 "cells": [
  {
   "cell_type": "markdown",
   "id": "208974fd-6b1f-4cac-93d9-b65226bd5817",
   "metadata": {},
   "source": [
    "## No FE Dataframe"
   ]
  },
  {
   "cell_type": "markdown",
   "id": "8406324a-32cc-4210-9b08-1ed00c425585",
   "metadata": {},
   "source": [
    "We'll create a dataframe without any Feature Engineering or EDA to compare results so we can understand the importance of FE/EDA"
   ]
  },
  {
   "cell_type": "code",
   "execution_count": null,
   "id": "b7b80c0f-0e0f-4dfc-9280-41ae9c977065",
   "metadata": {},
   "outputs": [],
   "source": [
    "import os\n",
    "import pandas as pd\n",
    "import numpy as np"
   ]
  },
  {
   "cell_type": "code",
   "execution_count": null,
   "id": "43ffc2f6-d9e0-4147-9a52-a4fda30d181f",
   "metadata": {},
   "outputs": [],
   "source": [
    "notebook_dir = os.path.dirname(os.path.abspath('__file__'))\n",
    "\n",
    "pre_data_path = os.path.join(notebook_dir, '../data/raw/car_prices.csv')\n",
    "pos_data_path = os.path.join(notebook_dir, '../data/processed/car_prices_after_FE.csv')\n",
    "\n",
    "df = pd.read_csv(pre_data_path)\n",
    "processed_df = pd.read_csv(pos_data_path)"
   ]
  },
  {
   "cell_type": "code",
   "execution_count": null,
   "id": "ce357e23-d54b-4574-9b82-58581bf0fb17",
   "metadata": {},
   "outputs": [],
   "source": [
    "df.info()"
   ]
  },
  {
   "cell_type": "code",
   "execution_count": null,
   "id": "cd0379d5-7117-48f9-8aed-da85b1e5837e",
   "metadata": {},
   "outputs": [],
   "source": [
    "processed_df.info()"
   ]
  },
  {
   "cell_type": "code",
   "execution_count": null,
   "id": "e05505f9-86f0-44f6-802c-2b232b87158a",
   "metadata": {},
   "outputs": [],
   "source": [
    "# To mantain the same structure, we need 'age' column\n",
    "saledate = df['saledate'].str.split(expand=True)\n",
    "df = pd.merge(left=df, right=saledate.iloc[:, 3], left_index=True, right_index=True)\n",
    "df.rename(columns={3: 'salesyear'}, inplace=True)\n",
    "df['salesyear'] = df['salesyear'].fillna(2015).astype(np.int64)\n",
    "df['age'] = df['salesyear'] - df['year']"
   ]
  },
  {
   "cell_type": "code",
   "execution_count": null,
   "id": "2b5c28b0-8236-4867-8efd-77c3b4fca7fc",
   "metadata": {},
   "outputs": [],
   "source": [
    "# We will drop useless columns\n",
    "columns_to_drop = ['vin', 'seller', 'saledate', 'year', 'salesyear']\n",
    "df = df.drop(columns=columns_to_drop, errors='ignore')"
   ]
  },
  {
   "cell_type": "code",
   "execution_count": null,
   "id": "5ef0db2f-5203-4543-8d84-c03a27d48c22",
   "metadata": {},
   "outputs": [],
   "source": [
    "# Drop all nan values so that our model doesn't have any errors\n",
    "df.dropna(how = 'any', inplace = True)"
   ]
  },
  {
   "cell_type": "code",
   "execution_count": null,
   "id": "cc83f466-1c84-4c9e-a5a4-10f6e458ac26",
   "metadata": {},
   "outputs": [],
   "source": [
    "df.info()"
   ]
  },
  {
   "cell_type": "code",
   "execution_count": null,
   "id": "0f4c3655-5273-435e-ac7a-231d5387557c",
   "metadata": {},
   "outputs": [],
   "source": [
    "processed_df.info()"
   ]
  },
  {
   "cell_type": "code",
   "execution_count": null,
   "id": "0b622d70-65e1-40b1-9697-0aab88e342b4",
   "metadata": {},
   "outputs": [],
   "source": [
    "# Save dataframe\n",
    "notebook_dir = os.path.dirname(os.path.abspath('__file__'))\n",
    "save_path = os.path.join(notebook_dir, '../data/processed/car_prices_without_FE.csv')\n",
    "\n",
    "df.to_csv(save_path, index=False)"
   ]
  }
 ],
 "metadata": {
  "kernelspec": {
   "display_name": "Python 3 (ipykernel)",
   "language": "python",
   "name": "python3"
  },
  "language_info": {
   "codemirror_mode": {
    "name": "ipython",
    "version": 3
   },
   "file_extension": ".py",
   "mimetype": "text/x-python",
   "name": "python",
   "nbconvert_exporter": "python",
   "pygments_lexer": "ipython3",
   "version": "3.10.11"
  }
 },
 "nbformat": 4,
 "nbformat_minor": 5
}
