{
 "cells": [
  {
   "cell_type": "markdown",
   "id": "41c6b7ab-f0c2-4e01-8141-c8492424afde",
   "metadata": {},
   "source": [
    "# Exploratory Data Analysis (EDA)"
   ]
  },
  {
   "cell_type": "code",
   "execution_count": null,
   "id": "ef8d8dc5-dee3-4db6-9e55-f3ab7ea1893f",
   "metadata": {},
   "outputs": [],
   "source": [
    "import pandas as pd\n",
    "import os\n",
    "\n",
    "notebook_dir = os.path.dirname(os.path.abspath('__file__'))\n",
    "\n",
    "data_path = os.path.join(notebook_dir, '../data/processed/car_prices_after_FE.csv') # Change if necessary\n",
    "\n",
    "df = pd.read_csv(data_path)"
   ]
  },
  {
   "cell_type": "markdown",
   "id": "25577ad5-5950-4134-9bc1-2ea69ca6fbb1",
   "metadata": {},
   "source": [
    "## Initial exploration and visualization"
   ]
  },
  {
   "cell_type": "code",
   "execution_count": null,
   "id": "31c8b4b0-70be-4a5e-88d4-d7a00e6d8e97",
   "metadata": {},
   "outputs": [],
   "source": [
    "# As a reminder of how the dataframe looks\n",
    "df.head(5)"
   ]
  },
  {
   "cell_type": "code",
   "execution_count": null,
   "id": "4f01e97d-b5ab-47f8-a211-1ae120d71cc8",
   "metadata": {},
   "outputs": [],
   "source": [
    "df.shape\n",
    "df.info()\n",
    "df.describe()"
   ]
  },
  {
   "cell_type": "code",
   "execution_count": null,
   "id": "7db393ac-5f61-4f71-94bb-b4dc25ed2c11",
   "metadata": {},
   "outputs": [],
   "source": [
    "import seaborn as sns\n",
    "import matplotlib.pyplot as plt\n",
    "\n",
    "sns.pairplot(data = df, diag_kind=\"kde\")\n",
    "plt.show()"
   ]
  },
  {
   "cell_type": "markdown",
   "id": "b8cd4a48-95c4-4634-bcbf-a02ecca1e4f7",
   "metadata": {},
   "source": [
    "## Null and unique values"
   ]
  },
  {
   "cell_type": "code",
   "execution_count": null,
   "id": "8eb102b4-f270-4448-91aa-a025f39198c9",
   "metadata": {},
   "outputs": [],
   "source": [
    "# Checking for missing values in each column\n",
    "null_values = df.isnull().sum()\n",
    "\n",
    "# Printing the number of missing values per column\n",
    "print(\"Missing values per column:\")\n",
    "print(null_values)\n",
    "\n",
    "# Percentage of missing values for each column (optional)\n",
    "missing_percentage = (null_values / len(df)) * 100\n",
    "print(\"\\nPercentage of missing values per column:\")\n",
    "print(missing_percentage)"
   ]
  },
  {
   "cell_type": "code",
   "execution_count": null,
   "id": "1b5e6c57-4f7a-4d37-bce1-8f102c26a7a2",
   "metadata": {},
   "outputs": [],
   "source": [
    "df.nunique()"
   ]
  },
  {
   "cell_type": "markdown",
   "id": "53f54bcc-44e9-4e42-9ebe-de1aa9eeeb5a",
   "metadata": {},
   "source": [
    "## Correlation matrix"
   ]
  },
  {
   "cell_type": "code",
   "execution_count": null,
   "id": "4b6dcff3-8664-45f8-b5ab-113208479366",
   "metadata": {},
   "outputs": [],
   "source": [
    "plt.tight_layout()\n",
    "tmap = sns.heatmap(df.corr(numeric_only=True), cmap = 'coolwarm', linecolor=\"white\", linewidths=0.5, fmt=\"0.2f\", annot = True)\n",
    "for t in tmap.texts:\n",
    "    if float(t.get_text()) >= 0.3 or float(t.get_text()) <= -0.3:\n",
    "        t.set_text(t.get_text())\n",
    "    else:\n",
    "        t.set_text(\"\")\n",
    "plt.title('correlation matrix', loc = 'center')"
   ]
  }
 ],
 "metadata": {
  "kernelspec": {
   "display_name": "Python 3 (ipykernel)",
   "language": "python",
   "name": "python3"
  },
  "language_info": {
   "codemirror_mode": {
    "name": "ipython",
    "version": 3
   },
   "file_extension": ".py",
   "mimetype": "text/x-python",
   "name": "python",
   "nbconvert_exporter": "python",
   "pygments_lexer": "ipython3",
   "version": "3.10.11"
  }
 },
 "nbformat": 4,
 "nbformat_minor": 5
}
